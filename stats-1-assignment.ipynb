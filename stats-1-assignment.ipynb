{
 "cells": [
  {
   "cell_type": "code",
   "execution_count": 1,
   "metadata": {
    "_cell_guid": "b1076dfc-b9ad-4769-8c92-a6c4dae69d19",
    "_uuid": "8f2839f25d086af736a60e9eeb907d3b93b6e0e5",
    "execution": {
     "iopub.execute_input": "2021-01-13T10:08:45.611074Z",
     "iopub.status.busy": "2021-01-13T10:08:45.610344Z",
     "iopub.status.idle": "2021-01-13T10:08:46.491071Z",
     "shell.execute_reply": "2021-01-13T10:08:46.490274Z"
    },
    "papermill": {
     "duration": 0.90399,
     "end_time": "2021-01-13T10:08:46.491207",
     "exception": false,
     "start_time": "2021-01-13T10:08:45.587217",
     "status": "completed"
    },
    "tags": []
   },
   "outputs": [],
   "source": [
    "import numpy as np # linear algebra\n",
    "from scipy import stats\n",
    "from scipy.stats import norm"
   ]
  },
  {
   "cell_type": "markdown",
   "metadata": {
    "papermill": {
     "duration": 0.014026,
     "end_time": "2021-01-13T10:08:46.520104",
     "exception": false,
     "start_time": "2021-01-13T10:08:46.506078",
     "status": "completed"
    },
    "tags": []
   },
   "source": [
    "# **Problem Statement 1**:\n",
    "\n",
    "The marks awarded for an assignment set for a Year 8 class of 20 students were as\n",
    "follows:\n",
    "6 7 5 7 7 8 7 6 9 7 4 10 6 8 8 9 5 6 4 8"
   ]
  },
  {
   "cell_type": "code",
   "execution_count": 2,
   "metadata": {
    "_cell_guid": "79c7e3d0-c299-4dcb-8224-4455121ee9b0",
    "_uuid": "d629ff2d2480ee46fbb7e2d37f6b5fab8052498a",
    "execution": {
     "iopub.execute_input": "2021-01-13T10:08:46.558369Z",
     "iopub.status.busy": "2021-01-13T10:08:46.557580Z",
     "iopub.status.idle": "2021-01-13T10:08:46.566591Z",
     "shell.execute_reply": "2021-01-13T10:08:46.566001Z"
    },
    "papermill": {
     "duration": 0.032348,
     "end_time": "2021-01-13T10:08:46.566707",
     "exception": false,
     "start_time": "2021-01-13T10:08:46.534359",
     "status": "completed"
    },
    "tags": []
   },
   "outputs": [
    {
     "name": "stdout",
     "output_type": "stream",
     "text": [
      "Mean :  6.85\n",
      "Median :  7.0\n",
      "Mode :  ModeResult(mode=array([7]), count=array([5]))\n",
      "Standard Deviation :  1.5898113095584647\n"
     ]
    }
   ],
   "source": [
    "marks = [6,7,5,7,7,8,7,6,9,7,4,10,6,8,8,9,5,6,4,8]\n",
    "print(\"Mean : \",np.mean(marks))\n",
    "print(\"Median : \",np.median(marks))\n",
    "print(\"Mode : \",stats.mode(marks))\n",
    "print(\"Standard Deviation : \",np.std(marks))"
   ]
  },
  {
   "cell_type": "markdown",
   "metadata": {
    "papermill": {
     "duration": 0.015956,
     "end_time": "2021-01-13T10:08:46.598532",
     "exception": false,
     "start_time": "2021-01-13T10:08:46.582576",
     "status": "completed"
    },
    "tags": []
   },
   "source": [
    "# **Problem Statement 2:**\n",
    "\n",
    "The number of calls from motorists per day for roadside service was recorded for a\n",
    "particular month:\n",
    "28, 122, 217, 130, 120, 86, 80, 90, 140, 120, 70, 40, 145, 113, 90, 68, 174, 194, 170,\n",
    "100, 75, 104, 97, 75, 123, 100, 75, 104, 97, 75, 123, 100, 89, 120, 109\n"
   ]
  },
  {
   "cell_type": "code",
   "execution_count": 3,
   "metadata": {
    "execution": {
     "iopub.execute_input": "2021-01-13T10:08:46.639851Z",
     "iopub.status.busy": "2021-01-13T10:08:46.639063Z",
     "iopub.status.idle": "2021-01-13T10:08:46.642198Z",
     "shell.execute_reply": "2021-01-13T10:08:46.642658Z"
    },
    "papermill": {
     "duration": 0.02891,
     "end_time": "2021-01-13T10:08:46.642825",
     "exception": false,
     "start_time": "2021-01-13T10:08:46.613915",
     "status": "completed"
    },
    "tags": []
   },
   "outputs": [
    {
     "name": "stdout",
     "output_type": "stream",
     "text": [
      "Mean :  107.51428571428572\n",
      "Median :  100.0\n",
      "Mode :  ModeResult(mode=array([75]), count=array([4]))\n",
      "Standard Deviation :  38.77287080168403\n"
     ]
    }
   ],
   "source": [
    "calls=[28, 122, 217, 130, 120, 86, 80, 90, 140, 120, 70, 40, 145, 113, 90, 68, 174, 194, 170, 100, 75, 104, 97, 75, 123, 100, 75, 104, 97, 75, 123, 100, 89, 120, 109]\n",
    "print(\"Mean : \",np.mean(calls))\n",
    "print(\"Median : \",np.median(calls))\n",
    "print(\"Mode : \",stats.mode(calls))\n",
    "print(\"Standard Deviation : \",np.std(calls))"
   ]
  },
  {
   "cell_type": "markdown",
   "metadata": {
    "papermill": {
     "duration": 0.016384,
     "end_time": "2021-01-13T10:08:46.676222",
     "exception": false,
     "start_time": "2021-01-13T10:08:46.659838",
     "status": "completed"
    },
    "tags": []
   },
   "source": [
    "# **Problem Statement 3:**\n",
    "The number of times I go to the gym in weekdays, are given below along with its\n",
    "associated probability:\n",
    "x = 0, 1, 2, 3, 4, 5\n",
    "f(x) = 0.09, 0.15, 0.40, 0.25, 0.10, 0.01\n",
    "Calculate the mean no. of workouts in a week. Also evaluate the variance involved in\n",
    "it"
   ]
  },
  {
   "cell_type": "code",
   "execution_count": 4,
   "metadata": {
    "execution": {
     "iopub.execute_input": "2021-01-13T10:08:46.717596Z",
     "iopub.status.busy": "2021-01-13T10:08:46.716850Z",
     "iopub.status.idle": "2021-01-13T10:08:46.721047Z",
     "shell.execute_reply": "2021-01-13T10:08:46.720338Z"
    },
    "papermill": {
     "duration": 0.028488,
     "end_time": "2021-01-13T10:08:46.721171",
     "exception": false,
     "start_time": "2021-01-13T10:08:46.692683",
     "status": "completed"
    },
    "tags": []
   },
   "outputs": [
    {
     "name": "stdout",
     "output_type": "stream",
     "text": [
      "Mean no. of workouts:  0.35833333333333334\n",
      "Variance:  0.10284722222222224\n"
     ]
    }
   ],
   "source": [
    "x=[0, 1, 2, 3, 4, 5]\n",
    "f_x=[0.09, 0.15, 0.40, 0.25, 0.10, 0.01]\n",
    "workouts=np.array(x)*f_x\n",
    "print(\"Mean no. of workouts: \",norm.fit(workouts)[0])\n",
    "print(\"Variance: \",np.var(workouts))"
   ]
  },
  {
   "cell_type": "markdown",
   "metadata": {
    "papermill": {
     "duration": 0.015421,
     "end_time": "2021-01-13T10:08:46.752651",
     "exception": false,
     "start_time": "2021-01-13T10:08:46.737230",
     "status": "completed"
    },
    "tags": []
   },
   "source": [
    "# **Problem Statement 5:**\n",
    "\n",
    "A company manufactures LED bulbs with a faulty rate of 30%. If I randomly select 6\n",
    "chosen LEDs, what is the probability of having 2 faulty LEDs in my sample?\n",
    "Calculate the average value of this process. Also evaluate the standard deviation\n",
    "associated with it."
   ]
  },
  {
   "cell_type": "code",
   "execution_count": 5,
   "metadata": {
    "execution": {
     "iopub.execute_input": "2021-01-13T10:08:46.794148Z",
     "iopub.status.busy": "2021-01-13T10:08:46.793337Z",
     "iopub.status.idle": "2021-01-13T10:08:47.047270Z",
     "shell.execute_reply": "2021-01-13T10:08:47.046503Z"
    },
    "papermill": {
     "duration": 0.278775,
     "end_time": "2021-01-13T10:08:47.047396",
     "exception": false,
     "start_time": "2021-01-13T10:08:46.768621",
     "status": "completed"
    },
    "tags": []
   },
   "outputs": [
    {
     "name": "stdout",
     "output_type": "stream",
     "text": [
      "Probability will be : 0.32413499999999995\n",
      "mean :=  1.7999999999999998\n",
      "standard deviation := 1.1224972160321822\n"
     ]
    }
   ],
   "source": [
    "# Probability of having 2 faulty LEDs\n",
    "\n",
    "from scipy.stats import binom\n",
    "import matplotlib.pyplot as plt\n",
    "import seaborn as sns\n",
    "probab=binom.pmf(k=2,n=6,p=0.3)\n",
    "print(\"Probability will be :\",probab)\n",
    "\n",
    "# Mean and standard deviation\n",
    "\n",
    "import math\n",
    "mean,var=binom.stats(n=6,p=0.3)\n",
    "print(\"mean := \",mean)\n",
    "print(\"standard deviation :=\",math.sqrt(var))"
   ]
  },
  {
   "cell_type": "markdown",
   "metadata": {
    "papermill": {
     "duration": 0.016571,
     "end_time": "2021-01-13T10:08:47.080912",
     "exception": false,
     "start_time": "2021-01-13T10:08:47.064341",
     "status": "completed"
    },
    "tags": []
   },
   "source": [
    "# **Problem Statement 6:**\n",
    "\n",
    "Gaurav and Barakha are both preparing for entrance exams. Gaurav attempts to\n",
    "solve 8 questions per day with a correction rate of 75%, while Barakha averages\n",
    "around 12 questions per day with a correction rate of 45%. What is the probability\n",
    "that each of them will solve 5 questions correctly? What happens in cases of 4 and 6\n",
    "correct solutions? What do you infer from it? What are the two main governing\n",
    "factors affecting their ability to solve questions correctly? Give a pictorial\n",
    "representation of the same to validate your answer."
   ]
  },
  {
   "cell_type": "code",
   "execution_count": 6,
   "metadata": {
    "execution": {
     "iopub.execute_input": "2021-01-13T10:08:47.123165Z",
     "iopub.status.busy": "2021-01-13T10:08:47.122022Z",
     "iopub.status.idle": "2021-01-13T10:08:47.131892Z",
     "shell.execute_reply": "2021-01-13T10:08:47.131310Z"
    },
    "papermill": {
     "duration": 0.034548,
     "end_time": "2021-01-13T10:08:47.132006",
     "exception": false,
     "start_time": "2021-01-13T10:08:47.097458",
     "status": "completed"
    },
    "tags": []
   },
   "outputs": [
    {
     "name": "stdout",
     "output_type": "stream",
     "text": [
      "Probability of Gaurav solving 5 questions correctly is : 0.20764160156250022\n",
      "Probability of Barkha solving 5 questions correctly is : 0.22249823843265812\n",
      "----------------------------------------------------------------------------\n",
      "Probability of Gaurav solving 4 questions correctly is : 0.08651733398437506\n",
      "Probability of Barkha solving 4 questions correctly is : 0.1699639321360581\n",
      "----------------------------------------------------------------------------\n",
      "Probability of Gaurav solving 6 questions correctly is : 0.31146240234375017\n",
      "Probability of Barkha solving 6 questions correctly is : 0.21238468214026432\n",
      "----------------------------------------------------------------------------\n"
     ]
    }
   ],
   "source": [
    "# Probability of Gaurav solving 5 questions correctly\n",
    "questions =[5,4,6]\n",
    "for q in questions:\n",
    "    print(\"Probability of Gaurav solving \" + str(q) + \" questions correctly is :\",binom.pmf(k=q,n=8,p=0.75))\n",
    "    print(\"Probability of Barkha solving \" + str(q) + \" questions correctly is :\",binom.pmf(k=q,n=12,p=0.45))\n",
    "    print(\"----------------------------------------------------------------------------\")\n"
   ]
  },
  {
   "cell_type": "markdown",
   "metadata": {
    "papermill": {
     "duration": 0.016535,
     "end_time": "2021-01-13T10:08:47.165207",
     "exception": false,
     "start_time": "2021-01-13T10:08:47.148672",
     "status": "completed"
    },
    "tags": []
   },
   "source": [
    "The inference that can be drawn from this is that while Gaurav has a high correction rate, it is based on only 8 questions per day. Therefore the true picture can only be seen when the number of questions solved correctly is higher (5 or 6)"
   ]
  },
  {
   "cell_type": "markdown",
   "metadata": {
    "papermill": {
     "duration": 0.016663,
     "end_time": "2021-01-13T10:08:47.198930",
     "exception": false,
     "start_time": "2021-01-13T10:08:47.182267",
     "status": "completed"
    },
    "tags": []
   },
   "source": [
    "# **Problem Statement 7:**\n",
    "\n",
    "Customers arrive at a rate of 72 per hour to my shop. What is the probability of 𝑘\n",
    "customers arriving in 4 minutes? a) 5 customers, b) not more than 3 customers, c)\n",
    "more than 3 customers. Give a pictorial representation of the same to validate your\n",
    "answer."
   ]
  },
  {
   "cell_type": "code",
   "execution_count": 7,
   "metadata": {
    "execution": {
     "iopub.execute_input": "2021-01-13T10:08:47.240774Z",
     "iopub.status.busy": "2021-01-13T10:08:47.239665Z",
     "iopub.status.idle": "2021-01-13T10:08:47.248384Z",
     "shell.execute_reply": "2021-01-13T10:08:47.249166Z"
    },
    "papermill": {
     "duration": 0.033767,
     "end_time": "2021-01-13T10:08:47.249362",
     "exception": false,
     "start_time": "2021-01-13T10:08:47.215595",
     "status": "completed"
    },
    "tags": []
   },
   "outputs": [
    {
     "name": "stdout",
     "output_type": "stream",
     "text": [
      "The probability of 5 customers arriving in 4 minutes:  0.17474768364388296\n",
      "The probability of not more than 3 customers arriving in 4 minutes:  0.14253921888902693\n",
      "The probability of more than 3 customers arriving in 4 minutes:  0.8574607811109731\n"
     ]
    }
   ],
   "source": [
    "# Calculating Mu with the time interval of 4 minutes\n",
    "\n",
    "mu=72*4/60\n",
    "\n",
    "# Calculating probabilities\n",
    "\n",
    "from scipy.stats import poisson\n",
    "print(\"The probability of 5 customers arriving in 4 minutes: \", poisson.pmf(k=5,mu=mu))\n",
    "print(\"The probability of not more than 3 customers arriving in 4 minutes: \", sum(poisson.pmf(k=[0,1,2],mu=mu)))\n",
    "print(\"The probability of more than 3 customers arriving in 4 minutes: \", 1-sum(poisson.pmf(k=[0,1,2],mu=mu)))\n"
   ]
  },
  {
   "cell_type": "markdown",
   "metadata": {
    "papermill": {
     "duration": 0.018159,
     "end_time": "2021-01-13T10:08:47.285397",
     "exception": false,
     "start_time": "2021-01-13T10:08:47.267238",
     "status": "completed"
    },
    "tags": []
   },
   "source": [
    "# **Problem Statement 8:**\n",
    "\n",
    "I work as a data analyst in Aeon Learning Pvt. Ltd. After analyzing data, I make\n",
    "reports, where I have the efficiency of entering 77 words per minute with 6 errors per\n",
    "hour. What is the probability that I will commit 2 errors in a 455-word financial report?\n",
    "What happens when the no. of words increases/decreases (in case of 1000 words,\n",
    "255 words)?\n",
    "How is the 𝜆 affected?\n",
    "How does it influence the PMF?\n",
    "Give a pictorial representation of the same to validate your answer."
   ]
  },
  {
   "cell_type": "code",
   "execution_count": 8,
   "metadata": {
    "execution": {
     "iopub.execute_input": "2021-01-13T10:08:47.327161Z",
     "iopub.status.busy": "2021-01-13T10:08:47.326127Z",
     "iopub.status.idle": "2021-01-13T10:08:47.339545Z",
     "shell.execute_reply": "2021-01-13T10:08:47.338460Z"
    },
    "papermill": {
     "duration": 0.036107,
     "end_time": "2021-01-13T10:08:47.339877",
     "exception": false,
     "start_time": "2021-01-13T10:08:47.303770",
     "status": "completed"
    },
    "tags": []
   },
   "outputs": [
    {
     "name": "stdout",
     "output_type": "stream",
     "text": [
      "The probability of of commiting 2 errors in a 455-word report:  0.09669027375144444\n",
      "The probability of of commiting 2 errors in a 1000-word report:   0.23012815007300153\n",
      "The probability of of commiting 2 errors in a 255-word report:   0.039377135392854104\n"
     ]
    }
   ],
   "source": [
    "# Calculating probabilities\n",
    "mu1=6*455/(77*60)\n",
    "mu2=6*1000/(77*60)\n",
    "mu3=6*255/(77*60)\n",
    "print(\"The probability of of commiting 2 errors in a 455-word report: \", poisson.pmf(k=2,mu=mu1))\n",
    "print(\"The probability of of commiting 2 errors in a 1000-word report:  \", poisson.pmf(k=2,mu=mu2))\n",
    "print(\"The probability of of commiting 2 errors in a 255-word report:  \", poisson.pmf(k=2,mu=mu3))\n"
   ]
  },
  {
   "cell_type": "markdown",
   "metadata": {
    "papermill": {
     "duration": 0.01833,
     "end_time": "2021-01-13T10:08:47.377101",
     "exception": false,
     "start_time": "2021-01-13T10:08:47.358771",
     "status": "completed"
    },
    "tags": []
   },
   "source": [
    "# **Problem Statement 10:**\n",
    "\n",
    "Please compute the following:\n",
    "a) P(Z > 1.26), . P(Z < −0.86), P(Z > −1.37), P(−1.25 < Z < 0.37), . P(Z ≤ −4.6)\n",
    "b) Find the value 𝑧 such that 𝑃(𝑍 > 𝑧) = 0.05\n",
    "c) Find the value of 𝑧 such that 𝑃(−𝑧 < 𝑍 < 𝑧) = 0.99"
   ]
  },
  {
   "cell_type": "code",
   "execution_count": 9,
   "metadata": {
    "execution": {
     "iopub.execute_input": "2021-01-13T10:08:47.426234Z",
     "iopub.status.busy": "2021-01-13T10:08:47.425231Z",
     "iopub.status.idle": "2021-01-13T10:08:47.433043Z",
     "shell.execute_reply": "2021-01-13T10:08:47.432285Z"
    },
    "papermill": {
     "duration": 0.037395,
     "end_time": "2021-01-13T10:08:47.433185",
     "exception": false,
     "start_time": "2021-01-13T10:08:47.395790",
     "status": "completed"
    },
    "tags": []
   },
   "outputs": [
    {
     "name": "stdout",
     "output_type": "stream",
     "text": [
      "P(Z>1.26):  0.10383468112130045\n",
      "P(Z<-0.86):  0.1948945212518084\n",
      "P(Z>-1.37):  0.914656549178033\n",
      "P(-1.25<Z<0.37):  0.5386589811336914\n",
      "P(Z≤ −4.6):  2.1124547025028537e-06\n",
      "The value of z such that P(Z>z)=0.05:  1.6448536269514722\n"
     ]
    }
   ],
   "source": [
    "# a) P(Z > 1.26), . P(Z < −0.86), P(Z > −1.37), P(−1.25 < Z < 0.37), . P(Z ≤ −4.6)\n",
    "\n",
    "print(\"P(Z>1.26): \",1-stats.norm.cdf(1.26))\n",
    "print(\"P(Z<-0.86): \",stats.norm.cdf(-0.86))\n",
    "print(\"P(Z>-1.37): \",1-stats.norm.cdf(-1.37))\n",
    "print(\"P(-1.25<Z<0.37): \",stats.norm.cdf(0.37)-stats.norm.cdf(-1.25))\n",
    "print(\"P(Z≤ −4.6): \",stats.norm.cdf(-4.6))\n",
    "\n",
    "# b) Find the value 𝑧 such that 𝑃(𝑍 > 𝑧) = 0.05\n",
    "\n",
    "print(\"The value of z such that P(Z>z)=0.05: \", stats.norm.ppf(0.95))"
   ]
  },
  {
   "cell_type": "markdown",
   "metadata": {
    "papermill": {
     "duration": 0.018633,
     "end_time": "2021-01-13T10:08:47.471011",
     "exception": false,
     "start_time": "2021-01-13T10:08:47.452378",
     "status": "completed"
    },
    "tags": []
   },
   "source": [
    "# **Problem Statement 11:**\n",
    "\n",
    "The current flow in a copper wire follow a normal distribution with a mean of 10 𝑚A\n",
    "and a variance of 4 (𝑚𝐴)2.\n",
    "What is the probability that a current measurement will exceed 13 𝑚𝐴? What is the\n",
    "probability that a current measurement is between 9 and 11mA? Determine the\n",
    "current measurement which has a probability of 0.98."
   ]
  },
  {
   "cell_type": "code",
   "execution_count": 10,
   "metadata": {
    "execution": {
     "iopub.execute_input": "2021-01-13T10:08:47.519635Z",
     "iopub.status.busy": "2021-01-13T10:08:47.518768Z",
     "iopub.status.idle": "2021-01-13T10:08:47.522218Z",
     "shell.execute_reply": "2021-01-13T10:08:47.523113Z"
    },
    "papermill": {
     "duration": 0.033734,
     "end_time": "2021-01-13T10:08:47.523303",
     "exception": false,
     "start_time": "2021-01-13T10:08:47.489569",
     "status": "completed"
    },
    "tags": []
   },
   "outputs": [
    {
     "name": "stdout",
     "output_type": "stream",
     "text": [
      " Probability that a current measurement will exceed 13mA is 6.68%\n",
      " Probability that a current measurement is between 9 and 11 mA is 38.29%\n",
      " The current measurement which has a probability of 0.98 is 14.11 mA\n"
     ]
    }
   ],
   "source": [
    "x = 13\n",
    "mean_current = 10\n",
    "variance_current = 4\n",
    "sd_current=np.sqrt(variance_current)\n",
    "prob=1-stats.norm.cdf((x-mean_current)/sd_current)\n",
    "print(' Probability that a current measurement will exceed 13mA is {:.2f}%'.format(prob*100))\n",
    "\n",
    "x1 = 9\n",
    "x2 = 11\n",
    "prob1=stats.norm.cdf((x2-mean_current)/sd_current)- stats.norm.cdf((x1-mean_current)/sd_current)\n",
    "print(' Probability that a current measurement is between 9 and 11 mA is {:.2f}%'.format(prob1*100))\n",
    "print(' The current measurement which has a probability of 0.98 is {:.2f} mA'.format(stats.norm.ppf(0.98)*sd_current+mean_current))\n"
   ]
  },
  {
   "cell_type": "markdown",
   "metadata": {
    "papermill": {
     "duration": 0.019998,
     "end_time": "2021-01-13T10:08:47.563500",
     "exception": false,
     "start_time": "2021-01-13T10:08:47.543502",
     "status": "completed"
    },
    "tags": []
   },
   "source": [
    "# **Problem Statement 12:**\n",
    "\n",
    "The shaft in a piston has its diameter normally distributed with a mean of 0.2508 inch\n",
    "and a standard deviation of 0.0005 inch. The specifications of the shaft are 0.2500 ∓\n",
    "0.0015 inch. What proportion of shafts are in sync with the specifications? If the\n",
    "process is centered so that the mean is equal to the target value of 0.2500, what\n",
    "proportion of shafts conform to the new specifications? What is your conclusion from\n",
    "this experiment?"
   ]
  },
  {
   "cell_type": "code",
   "execution_count": 11,
   "metadata": {
    "execution": {
     "iopub.execute_input": "2021-01-13T10:08:47.614072Z",
     "iopub.status.busy": "2021-01-13T10:08:47.613242Z",
     "iopub.status.idle": "2021-01-13T10:08:47.617597Z",
     "shell.execute_reply": "2021-01-13T10:08:47.616962Z"
    },
    "papermill": {
     "duration": 0.032771,
     "end_time": "2021-01-13T10:08:47.617715",
     "exception": false,
     "start_time": "2021-01-13T10:08:47.584944",
     "status": "completed"
    },
    "tags": []
   },
   "outputs": [
    {
     "name": "stdout",
     "output_type": "stream",
     "text": [
      "Proportion of shafts in sync: 91.92%\n",
      "Proportion of shafts in sync if mean diameter is 0.25: 99.73%\n"
     ]
    }
   ],
   "source": [
    "mean_diameter = 0.2508\n",
    "std_diameter= 0.0005\n",
    "prob=stats.norm.cdf((0.2515-mean_diameter)/std_diameter)- stats.norm.cdf((0.2485-mean_diameter)/std_diameter)\n",
    "print('Proportion of shafts in sync: {:.2f}%'.format(prob*100))\n",
    "prob1=stats.norm.cdf((0.2515-0.25)/std_diameter)- stats.norm.cdf((0.2485-0.25)/std_diameter)\n",
    "print('Proportion of shafts in sync if mean diameter is 0.25: {:.2f}%'.format(prob1*100))"
   ]
  },
  {
   "cell_type": "markdown",
   "metadata": {
    "papermill": {
     "duration": 0.019191,
     "end_time": "2021-01-13T10:08:47.656603",
     "exception": false,
     "start_time": "2021-01-13T10:08:47.637412",
     "status": "completed"
    },
    "tags": []
   },
   "source": [
    "Most of the nonconforming shafts are too large, because the process mean is located very near to the upper specification limit. If the process is centered so that the process mean is equal to the target value of 0.2500,, the yield is increased to approximately 99.73%\n"
   ]
  },
  {
   "cell_type": "code",
   "execution_count": 12,
   "metadata": {
    "execution": {
     "iopub.execute_input": "2021-01-13T10:08:47.705674Z",
     "iopub.status.busy": "2021-01-13T10:08:47.704670Z",
     "iopub.status.idle": "2021-01-13T10:08:47.709493Z",
     "shell.execute_reply": "2021-01-13T10:08:47.710002Z"
    },
    "papermill": {
     "duration": 0.033658,
     "end_time": "2021-01-13T10:08:47.710165",
     "exception": false,
     "start_time": "2021-01-13T10:08:47.676507",
     "status": "completed"
    },
    "tags": []
   },
   "outputs": [
    {
     "data": {
      "text/plain": [
       "0.952296471316983"
      ]
     },
     "execution_count": 12,
     "metadata": {},
     "output_type": "execute_result"
    }
   ],
   "source": [
    "stats.norm.cdf(1.98)-stats.norm.cdf(-1.98)"
   ]
  }
 ],
 "metadata": {
  "kernelspec": {
   "display_name": "Python 3",
   "language": "python",
   "name": "python3"
  },
  "language_info": {
   "codemirror_mode": {
    "name": "ipython",
    "version": 3
   },
   "file_extension": ".py",
   "mimetype": "text/x-python",
   "name": "python",
   "nbconvert_exporter": "python",
   "pygments_lexer": "ipython3",
   "version": "3.7.6"
  },
  "papermill": {
   "duration": 7.613479,
   "end_time": "2021-01-13T10:08:47.839935",
   "environment_variables": {},
   "exception": null,
   "input_path": "__notebook__.ipynb",
   "output_path": "__notebook__.ipynb",
   "parameters": {},
   "start_time": "2021-01-13T10:08:40.226456",
   "version": "2.1.0"
  }
 },
 "nbformat": 4,
 "nbformat_minor": 4
}
